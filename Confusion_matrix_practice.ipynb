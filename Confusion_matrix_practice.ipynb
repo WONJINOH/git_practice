{
  "nbformat": 4,
  "nbformat_minor": 0,
  "metadata": {
    "colab": {
      "name": "Confusion_matrix_practice.ipynb",
      "provenance": [],
      "collapsed_sections": []
    },
    "kernelspec": {
      "name": "python3",
      "display_name": "Python 3"
    },
    "language_info": {
      "name": "python"
    },
    "accelerator": "GPU"
  },
  "cells": [
    {
      "cell_type": "code",
      "execution_count": null,
      "metadata": {
        "id": "mN74qw_z8p6r",
        "colab": {
          "base_uri": "https://localhost:8080/"
        },
        "outputId": "d8e0d2c8-028f-43ea-b6e9-01c7d7d86731"
      },
      "outputs": [
        {
          "output_type": "stream",
          "name": "stdout",
          "text": [
            "Mounted at /content/drive\n"
          ]
        }
      ],
      "source": [
        "from google.colab import drive\n",
        "drive.mount('/content/drive')"
      ]
    },
    {
      "cell_type": "code",
      "source": [
        "# This Python 3 environment comes with many helpful analytics libraries installed\n",
        "# It is defined by the kaggle/python Docker image: https://github.com/kaggle/docker-python\n",
        "# For example, here's several helpful packages to load\n",
        "\n",
        "import numpy as np # linear algebra\n",
        "import pandas as pd # data processing, CSV file I/O (e.g. pd.read_csv)\n",
        "import tensorflow as tf\n",
        "from tensorflow import keras\n",
        "import matplotlib.pyplot as plt\n",
        "import seaborn as sns\n",
        "# Input data files are available in the read-only \"../input/\" directory\n",
        "# For example, running this (by clicking run or pressing Shift+Enter) will list all files under the input directory\n",
        "import librosa as lb\n",
        "import librosa.display as lbd\n",
        "import os\n",
        "\n",
        "# You can write up to 5GB to the current directory (/kaggle/working/) that gets preserved as output when you create a version using \"Save & Run All\" \n",
        "# You can also write temporary files to /kaggle/temp/, but they won't be saved outside of the current session"
      ],
      "metadata": {
        "id": "l7iZqTtG8w_M"
      },
      "execution_count": null,
      "outputs": []
    },
    {
      "cell_type": "code",
      "source": [
        "train=pd.read_csv('/content/drive/MyDrive/hacker/git_practice/confusion_practice/train.csv')\n",
        "val=pd.read_csv('/content/drive/MyDrive/hacker/git_practice/confusion_practice/val.csv')\n",
        "train.head() #((5173, 3), (1725, 3))"
      ],
      "metadata": {
        "id": "FJKcZcYnBMk9",
        "colab": {
          "base_uri": "https://localhost:8080/",
          "height": 206
        },
        "outputId": "6f93b96d-4e9f-4932-f340-ebbe3a0fb957"
      },
      "execution_count": null,
      "outputs": [
        {
          "output_type": "execute_result",
          "data": {
            "text/plain": [
              "   Unnamed: 0  pid                       filename  disease\n",
              "0        1572  132   132_2b2_Lr_mc_LittC2SE_1.wav     COPD\n",
              "1        2266  143  143_1b1_Al_sc_Meditron_17.wav  Healthy\n",
              "2         561  154   154_4b4_Pr_mc_AKGC417L_4.wav     COPD\n",
              "3        3165  209   209_1b1_Tc_sc_Meditron_2.wav  Healthy\n",
              "4        1349  130   130_2b2_Ll_mc_AKGC417L_7.wav     COPD"
            ],
            "text/html": [
              "\n",
              "  <div id=\"df-5cc22709-33b2-48f1-9e82-6e0807c705dd\">\n",
              "    <div class=\"colab-df-container\">\n",
              "      <div>\n",
              "<style scoped>\n",
              "    .dataframe tbody tr th:only-of-type {\n",
              "        vertical-align: middle;\n",
              "    }\n",
              "\n",
              "    .dataframe tbody tr th {\n",
              "        vertical-align: top;\n",
              "    }\n",
              "\n",
              "    .dataframe thead th {\n",
              "        text-align: right;\n",
              "    }\n",
              "</style>\n",
              "<table border=\"1\" class=\"dataframe\">\n",
              "  <thead>\n",
              "    <tr style=\"text-align: right;\">\n",
              "      <th></th>\n",
              "      <th>Unnamed: 0</th>\n",
              "      <th>pid</th>\n",
              "      <th>filename</th>\n",
              "      <th>disease</th>\n",
              "    </tr>\n",
              "  </thead>\n",
              "  <tbody>\n",
              "    <tr>\n",
              "      <th>0</th>\n",
              "      <td>1572</td>\n",
              "      <td>132</td>\n",
              "      <td>132_2b2_Lr_mc_LittC2SE_1.wav</td>\n",
              "      <td>COPD</td>\n",
              "    </tr>\n",
              "    <tr>\n",
              "      <th>1</th>\n",
              "      <td>2266</td>\n",
              "      <td>143</td>\n",
              "      <td>143_1b1_Al_sc_Meditron_17.wav</td>\n",
              "      <td>Healthy</td>\n",
              "    </tr>\n",
              "    <tr>\n",
              "      <th>2</th>\n",
              "      <td>561</td>\n",
              "      <td>154</td>\n",
              "      <td>154_4b4_Pr_mc_AKGC417L_4.wav</td>\n",
              "      <td>COPD</td>\n",
              "    </tr>\n",
              "    <tr>\n",
              "      <th>3</th>\n",
              "      <td>3165</td>\n",
              "      <td>209</td>\n",
              "      <td>209_1b1_Tc_sc_Meditron_2.wav</td>\n",
              "      <td>Healthy</td>\n",
              "    </tr>\n",
              "    <tr>\n",
              "      <th>4</th>\n",
              "      <td>1349</td>\n",
              "      <td>130</td>\n",
              "      <td>130_2b2_Ll_mc_AKGC417L_7.wav</td>\n",
              "      <td>COPD</td>\n",
              "    </tr>\n",
              "  </tbody>\n",
              "</table>\n",
              "</div>\n",
              "      <button class=\"colab-df-convert\" onclick=\"convertToInteractive('df-5cc22709-33b2-48f1-9e82-6e0807c705dd')\"\n",
              "              title=\"Convert this dataframe to an interactive table.\"\n",
              "              style=\"display:none;\">\n",
              "        \n",
              "  <svg xmlns=\"http://www.w3.org/2000/svg\" height=\"24px\"viewBox=\"0 0 24 24\"\n",
              "       width=\"24px\">\n",
              "    <path d=\"M0 0h24v24H0V0z\" fill=\"none\"/>\n",
              "    <path d=\"M18.56 5.44l.94 2.06.94-2.06 2.06-.94-2.06-.94-.94-2.06-.94 2.06-2.06.94zm-11 1L8.5 8.5l.94-2.06 2.06-.94-2.06-.94L8.5 2.5l-.94 2.06-2.06.94zm10 10l.94 2.06.94-2.06 2.06-.94-2.06-.94-.94-2.06-.94 2.06-2.06.94z\"/><path d=\"M17.41 7.96l-1.37-1.37c-.4-.4-.92-.59-1.43-.59-.52 0-1.04.2-1.43.59L10.3 9.45l-7.72 7.72c-.78.78-.78 2.05 0 2.83L4 21.41c.39.39.9.59 1.41.59.51 0 1.02-.2 1.41-.59l7.78-7.78 2.81-2.81c.8-.78.8-2.07 0-2.86zM5.41 20L4 18.59l7.72-7.72 1.47 1.35L5.41 20z\"/>\n",
              "  </svg>\n",
              "      </button>\n",
              "      \n",
              "  <style>\n",
              "    .colab-df-container {\n",
              "      display:flex;\n",
              "      flex-wrap:wrap;\n",
              "      gap: 12px;\n",
              "    }\n",
              "\n",
              "    .colab-df-convert {\n",
              "      background-color: #E8F0FE;\n",
              "      border: none;\n",
              "      border-radius: 50%;\n",
              "      cursor: pointer;\n",
              "      display: none;\n",
              "      fill: #1967D2;\n",
              "      height: 32px;\n",
              "      padding: 0 0 0 0;\n",
              "      width: 32px;\n",
              "    }\n",
              "\n",
              "    .colab-df-convert:hover {\n",
              "      background-color: #E2EBFA;\n",
              "      box-shadow: 0px 1px 2px rgba(60, 64, 67, 0.3), 0px 1px 3px 1px rgba(60, 64, 67, 0.15);\n",
              "      fill: #174EA6;\n",
              "    }\n",
              "\n",
              "    [theme=dark] .colab-df-convert {\n",
              "      background-color: #3B4455;\n",
              "      fill: #D2E3FC;\n",
              "    }\n",
              "\n",
              "    [theme=dark] .colab-df-convert:hover {\n",
              "      background-color: #434B5C;\n",
              "      box-shadow: 0px 1px 3px 1px rgba(0, 0, 0, 0.15);\n",
              "      filter: drop-shadow(0px 1px 2px rgba(0, 0, 0, 0.3));\n",
              "      fill: #FFFFFF;\n",
              "    }\n",
              "  </style>\n",
              "\n",
              "      <script>\n",
              "        const buttonEl =\n",
              "          document.querySelector('#df-5cc22709-33b2-48f1-9e82-6e0807c705dd button.colab-df-convert');\n",
              "        buttonEl.style.display =\n",
              "          google.colab.kernel.accessAllowed ? 'block' : 'none';\n",
              "\n",
              "        async function convertToInteractive(key) {\n",
              "          const element = document.querySelector('#df-5cc22709-33b2-48f1-9e82-6e0807c705dd');\n",
              "          const dataTable =\n",
              "            await google.colab.kernel.invokeFunction('convertToInteractive',\n",
              "                                                     [key], {});\n",
              "          if (!dataTable) return;\n",
              "\n",
              "          const docLinkHtml = 'Like what you see? Visit the ' +\n",
              "            '<a target=\"_blank\" href=https://colab.research.google.com/notebooks/data_table.ipynb>data table notebook</a>'\n",
              "            + ' to learn more about interactive tables.';\n",
              "          element.innerHTML = '';\n",
              "          dataTable['output_type'] = 'display_data';\n",
              "          await google.colab.output.renderOutput(dataTable, element);\n",
              "          const docLink = document.createElement('div');\n",
              "          docLink.innerHTML = docLinkHtml;\n",
              "          element.appendChild(docLink);\n",
              "        }\n",
              "      </script>\n",
              "    </div>\n",
              "  </div>\n",
              "  "
            ]
          },
          "metadata": {},
          "execution_count": 8
        }
      ]
    },
    {
      "cell_type": "code",
      "source": [
        "ytrain=train.disease\n",
        "yval=val.disease\n",
        "yval"
      ],
      "metadata": {
        "id": "o-z2AMS3BMiu",
        "colab": {
          "base_uri": "https://localhost:8080/"
        },
        "outputId": "a3526ed8-126b-460d-d733-aa7eb1c819fb"
      },
      "execution_count": null,
      "outputs": [
        {
          "output_type": "execute_result",
          "data": {
            "text/plain": [
              "0       COPD\n",
              "1       COPD\n",
              "2       COPD\n",
              "3       COPD\n",
              "4       COPD\n",
              "        ... \n",
              "1720    COPD\n",
              "1721    COPD\n",
              "1722    COPD\n",
              "1723    COPD\n",
              "1724    COPD\n",
              "Name: disease, Length: 1725, dtype: object"
            ]
          },
          "metadata": {},
          "execution_count": 9
        }
      ]
    },
    {
      "cell_type": "code",
      "source": [
        "from sklearn.preprocessing import LabelEncoder\n",
        "le=LabelEncoder()\n",
        "ytrain=le.fit_transform(ytrain)\n",
        "yval=le.transform(yval)"
      ],
      "metadata": {
        "id": "E-XU_sH-BMgf"
      },
      "execution_count": null,
      "outputs": []
    },
    {
      "cell_type": "markdown",
      "source": [
        "Feature Extract은 저장해둔 거 불러오기"
      ],
      "metadata": {
        "id": "2hA23ZPPBTxW"
      }
    },
    {
      "cell_type": "code",
      "source": [
        "features_val = np.load('/content/drive/MyDrive/hacker/git_practice/confusion_practice/features_val.npz')"
      ],
      "metadata": {
        "id": "N_9qmOZZ8w9O"
      },
      "execution_count": null,
      "outputs": []
    },
    {
      "cell_type": "code",
      "source": [
        "features_train = np.load('/content/drive/MyDrive/hacker/git_practice/confusion_practice/features_train.npz')"
      ],
      "metadata": {
        "id": "gfkkie4N8w7p"
      },
      "execution_count": null,
      "outputs": []
    },
    {
      "cell_type": "code",
      "source": [
        "for i in features_val:\n",
        "  print(i)"
      ],
      "metadata": {
        "id": "_9FnqglQ8w5e",
        "colab": {
          "base_uri": "https://localhost:8080/"
        },
        "outputId": "b243814d-5626-4999-adc8-0e6a8127ea0d"
      },
      "execution_count": null,
      "outputs": [
        {
          "output_type": "stream",
          "name": "stdout",
          "text": [
            "mfcc_val\n",
            "cstft_val\n",
            "mSpec_val\n"
          ]
        }
      ]
    },
    {
      "cell_type": "code",
      "source": [
        "for i in features_train:\n",
        "  print(i)"
      ],
      "metadata": {
        "id": "mabGenqK8w18",
        "colab": {
          "base_uri": "https://localhost:8080/"
        },
        "outputId": "c1fe8e71-2e78-4370-ed6d-38201f9b528d"
      },
      "execution_count": null,
      "outputs": [
        {
          "output_type": "stream",
          "name": "stdout",
          "text": [
            "mfcc_train\n",
            "cstft_train\n",
            "mSpec_train\n"
          ]
        }
      ]
    },
    {
      "cell_type": "code",
      "source": [
        "mfcc_val = features_val['mfcc_val']\n",
        "cstft_val = features_val['cstft_val']\n",
        "mSpec_val = features_val['mSpec_val']"
      ],
      "metadata": {
        "id": "DuNpMA478wyb"
      },
      "execution_count": null,
      "outputs": []
    },
    {
      "cell_type": "code",
      "source": [
        "mfcc_train = features_train['mfcc_train']\n",
        "cstft_train = features_train['cstft_train']\n",
        "mSpec_train = features_train['mSpec_train']"
      ],
      "metadata": {
        "id": "SP7849O08wxT"
      },
      "execution_count": null,
      "outputs": []
    },
    {
      "cell_type": "code",
      "source": [
        "print(mfcc_train.shape)\n",
        "print(cstft_train.shape)\n",
        "print(mSpec_train.shape)"
      ],
      "metadata": {
        "id": "EsbkzC6r_2-q",
        "colab": {
          "base_uri": "https://localhost:8080/"
        },
        "outputId": "c689a815-ca12-4794-bf62-c4aa131536ac"
      },
      "execution_count": null,
      "outputs": [
        {
          "output_type": "stream",
          "name": "stdout",
          "text": [
            "(5173, 20, 259)\n",
            "(5173, 12, 259)\n",
            "(5173, 128, 259)\n"
          ]
        }
      ]
    },
    {
      "cell_type": "markdown",
      "source": [
        "모델"
      ],
      "metadata": {
        "id": "hsax9i3gBbQ6"
      }
    },
    {
      "cell_type": "code",
      "source": [
        "mfcc_input=keras.layers.Input(shape=(20,259,1),name=\"mfccInput\")\n",
        "x=keras.layers.Conv2D(32,5,strides=(1,3),padding='same')(mfcc_input) # (20, 87, 32)\n",
        "x=keras.layers.BatchNormalization()(x)\n",
        "x=keras.layers.Activation(keras.activations.relu)(x)\n",
        "x=keras.layers.MaxPooling2D(pool_size=2,padding='valid')(x) # (10, 43, 32)\n",
        "\n",
        "x=keras.layers.Conv2D(64,3,strides=(1,2),padding='same')(x) # (10, 22, 64)\n",
        "x=keras.layers.BatchNormalization()(x)\n",
        "x=keras.layers.Activation(keras.activations.relu)(x)\n",
        "x=keras.layers.MaxPooling2D(pool_size=2,padding='valid')(x) # (5, 11, 64)\n",
        "\n",
        "x=keras.layers.Conv2D(96,2,padding='same')(x) # (5, 11, 96)\n",
        "x=keras.layers.BatchNormalization()(x)\n",
        "x=keras.layers.Activation(keras.activations.relu)(x)\n",
        "x=keras.layers.MaxPooling2D(pool_size=2,padding='valid')(x) # (2, 5, 96)\n",
        "\n",
        "x=keras.layers.Conv2D(128,2,padding='same')(x) # (2, 5, 128)\n",
        "x=keras.layers.BatchNormalization()(x)\n",
        "x=keras.layers.Activation(keras.activations.relu)(x)\n",
        "mfcc_output=keras.layers.GlobalMaxPooling2D()(x) # (, 128)\n",
        "\n",
        "mfcc_model=keras.Model(mfcc_input, mfcc_output, name=\"mfccModel\")"
      ],
      "metadata": {
        "id": "tplZ-Ub__-0S"
      },
      "execution_count": null,
      "outputs": []
    },
    {
      "cell_type": "code",
      "source": [
        "croma_input=keras.layers.Input(shape=(12,259,1),name=\"cromaInput\")\n",
        "x=keras.layers.Conv2D(32,5,strides=(1,3),padding='same')(croma_input)\n",
        "x=keras.layers.BatchNormalization()(x)\n",
        "x=keras.layers.Activation(keras.activations.relu)(x)\n",
        "x=keras.layers.MaxPooling2D(pool_size=2,padding='valid')(x)\n",
        "\n",
        "\n",
        "x=keras.layers.Conv2D(64,3,strides=(1,2),padding='same')(x)\n",
        "x=keras.layers.Activation(keras.activations.relu)(x)\n",
        "x=keras.layers.MaxPooling2D(pool_size=2,padding='valid')(x)\n",
        "\n",
        "x=keras.layers.Conv2D(128,2,padding='same')(x)\n",
        "x=keras.layers.BatchNormalization()(x)\n",
        "x=keras.layers.Activation(keras.activations.relu)(x)\n",
        "croma_output=keras.layers.GlobalMaxPooling2D()(x)\n",
        "\n",
        "croma_model=keras.Model(croma_input, croma_output, name=\"cromaModel\")"
      ],
      "metadata": {
        "id": "9udHRVIuAIWj"
      },
      "execution_count": null,
      "outputs": []
    },
    {
      "cell_type": "code",
      "source": [
        "mSpec_input=keras.layers.Input(shape=(128,259,1),name=\"mSpecInput\")\n",
        "x=keras.layers.Conv2D(32,5,strides=(2,3),padding='same')(mSpec_input) # (64, 87, 32)\n",
        "x=keras.layers.BatchNormalization()(x)\n",
        "x=keras.layers.Activation(keras.activations.relu)(x)\n",
        "x=keras.layers.MaxPooling2D(pool_size=2,padding='valid')(x) # (32, 43, 32)\n",
        "\n",
        "skip_x = x # (32, 43, 32)\n",
        "skip_x = keras.layers.Conv2D(96,3,strides=(4,4),padding='same')(skip_x) #(8, 11, 96)\n",
        "\n",
        "x=keras.layers.Conv2D(64,3,strides=(2,2),padding='same')(x) #(16, 22, 64)\n",
        "x=keras.layers.BatchNormalization()(x)\n",
        "x=keras.layers.Activation(keras.activations.relu)(x)\n",
        "x=keras.layers.MaxPooling2D(pool_size=2,padding='valid')(x) #(8, 11, 64)\n",
        "\n",
        "x=keras.layers.Conv2D(96,2,padding='same')(x) #(8, 11, 96)\n",
        "x = keras.layers.Add()([x,skip_x])\n",
        "\n",
        "x=keras.layers.BatchNormalization()(x)\n",
        "x=keras.layers.Activation(keras.activations.relu)(x)\n",
        "x=keras.layers.MaxPooling2D(pool_size=2,padding='valid')(x) #(4, 5, 96)\n",
        "\n",
        "x=keras.layers.Conv2D(128,2,padding='same')(x) #(4, 5, 128)\n",
        "x=keras.layers.BatchNormalization()(x)\n",
        "x=keras.layers.Activation(keras.activations.relu)(x)\n",
        "mSpec_output=keras.layers.GlobalMaxPooling2D()(x) #(, 128)\n",
        "\n",
        "mSpec_model_1=keras.Model(mSpec_input, mSpec_output, name=\"mSpecModel_1\")"
      ],
      "metadata": {
        "id": "ApGn4_dqBx8u"
      },
      "execution_count": null,
      "outputs": []
    },
    {
      "cell_type": "code",
      "source": [
        "input_mfcc=keras.layers.Input(shape=(20,259,1),name=\"mfcc\")\n",
        "MFCC=mfcc_model(input_mfcc) #mfcc는 mfcc model에 대한 output\n",
        "\n",
        "input_croma=keras.layers.Input(shape=(12,259,1),name=\"croma\")\n",
        "CROMA=croma_model(input_croma)\n",
        "\n",
        "input_mSpec=keras.layers.Input(shape=(128,259,1),name=\"mspec\")\n",
        "MSPEC=mSpec_model_1(input_mSpec)\n",
        "\n",
        "\n",
        "concat=keras.layers.concatenate([MFCC,CROMA,MSPEC])\n",
        "hidden=keras.layers.Dropout(0.2)(concat)\n",
        "hidden=keras.layers.Dense(50,activation='relu')(concat)\n",
        "hidden=keras.layers.Dropout(0.3)(hidden)\n",
        "hidden=keras.layers.Dense(25,activation='relu')(hidden)\n",
        "hidden=keras.layers.Dropout(0.3)(hidden)\n",
        "output=keras.layers.Dense(8,activation='softmax')(hidden)\n",
        "\n",
        "net_1=keras.Model([input_mfcc,input_croma,input_mSpec], output, name=\"Net\")"
      ],
      "metadata": {
        "id": "AbF9LyavAISH"
      },
      "execution_count": null,
      "outputs": []
    },
    {
      "cell_type": "code",
      "source": [
        "net_1.summary()"
      ],
      "metadata": {
        "id": "HhJW7Qf0AIPg",
        "colab": {
          "base_uri": "https://localhost:8080/"
        },
        "outputId": "fe191228-999e-44b6-ae3d-6953a2f96a48"
      },
      "execution_count": null,
      "outputs": [
        {
          "output_type": "stream",
          "name": "stdout",
          "text": [
            "Model: \"Net\"\n",
            "__________________________________________________________________________________________________\n",
            " Layer (type)                   Output Shape         Param #     Connected to                     \n",
            "==================================================================================================\n",
            " mfcc (InputLayer)              [(None, 20, 259, 1)  0           []                               \n",
            "                                ]                                                                 \n",
            "                                                                                                  \n",
            " croma (InputLayer)             [(None, 12, 259, 1)  0           []                               \n",
            "                                ]                                                                 \n",
            "                                                                                                  \n",
            " mspec (InputLayer)             [(None, 128, 259, 1  0           []                               \n",
            "                                )]                                                                \n",
            "                                                                                                  \n",
            " mfccModel (Functional)         (None, 128)          94560       ['mfcc[0][0]']                   \n",
            "                                                                                                  \n",
            " cromaModel (Functional)        (None, 128)          52864       ['croma[0][0]']                  \n",
            "                                                                                                  \n",
            " mSpecModel_1 (Functional)      (None, 128)          122304      ['mspec[0][0]']                  \n",
            "                                                                                                  \n",
            " concatenate (Concatenate)      (None, 384)          0           ['mfccModel[0][0]',              \n",
            "                                                                  'cromaModel[0][0]',             \n",
            "                                                                  'mSpecModel_1[0][0]']           \n",
            "                                                                                                  \n",
            " dense (Dense)                  (None, 50)           19250       ['concatenate[0][0]']            \n",
            "                                                                                                  \n",
            " dropout_1 (Dropout)            (None, 50)           0           ['dense[0][0]']                  \n",
            "                                                                                                  \n",
            " dense_1 (Dense)                (None, 25)           1275        ['dropout_1[0][0]']              \n",
            "                                                                                                  \n",
            " dropout_2 (Dropout)            (None, 25)           0           ['dense_1[0][0]']                \n",
            "                                                                                                  \n",
            " dense_2 (Dense)                (None, 8)            208         ['dropout_2[0][0]']              \n",
            "                                                                                                  \n",
            "==================================================================================================\n",
            "Total params: 290,461\n",
            "Trainable params: 288,861\n",
            "Non-trainable params: 1,600\n",
            "__________________________________________________________________________________________________\n"
          ]
        }
      ]
    },
    {
      "cell_type": "code",
      "source": [
        "accuracy='sparse_categorical_accuracy'\n",
        "sparseLoss=keras.losses.SparseCategoricalCrossentropy()\n",
        "\n",
        "from keras import backend as K\n",
        "K.clear_session()\n",
        "net_1.compile(optimizer='nadam', loss=sparseLoss, metrics=[accuracy])\n",
        "K.set_value(net_1.optimizer.learning_rate, 0.001)"
      ],
      "metadata": {
        "id": "QTQb07_DAINA"
      },
      "execution_count": null,
      "outputs": []
    },
    {
      "cell_type": "code",
      "source": [
        "file_name = '/content/drive/MyDrive/hacker/git_practice/confusion_practice/net_1_1_checkpoint-001.h5'\n",
        "my_callbacks_2 = [\n",
        "    tf.keras.callbacks.EarlyStopping(patience=10),\n",
        "    tf.keras.callbacks.ReduceLROnPlateau(monitor='val_loss', factor=0.1,\n",
        "                              patience=3, min_lr=1e-8,mode='min'), #미분하다 막히면 lr 변경해줌\n",
        "    tf.keras.callbacks.ModelCheckpoint(file_name, monitor='val_loss', verbose=0, save_best_only=True,)\n",
        "]"
      ],
      "metadata": {
        "id": "2XUmiY0rApUb"
      },
      "execution_count": null,
      "outputs": []
    },
    {
      "cell_type": "markdown",
      "source": [
        "모델 저장한 거 불러오기"
      ],
      "metadata": {
        "id": "ahEI2YhtBnHT"
      }
    },
    {
      "cell_type": "code",
      "source": [
        "model=keras.models.load_model(file_name)"
      ],
      "metadata": {
        "id": "VXty5lZsApSY"
      },
      "execution_count": null,
      "outputs": []
    },
    {
      "cell_type": "code",
      "source": [
        "model.compile(optimizer='nadam', loss=sparseLoss,metrics=[accuracy])"
      ],
      "metadata": {
        "id": "fzjlyGHiApRB"
      },
      "execution_count": null,
      "outputs": []
    },
    {
      "cell_type": "code",
      "source": [
        "loss, acc = model.evaluate({\"mfcc\":mfcc_val,\"croma\":cstft_val,\"mspec\":mSpec_val},yval, verbose=2)\n",
        "print('Restored model, accuracy: {:5.2f}%'.format(100*acc))"
      ],
      "metadata": {
        "id": "iLT7nC-iApO2",
        "colab": {
          "base_uri": "https://localhost:8080/"
        },
        "outputId": "dbff300e-2473-4010-d82a-7faffd4f884f"
      },
      "execution_count": null,
      "outputs": [
        {
          "output_type": "stream",
          "name": "stdout",
          "text": [
            "54/54 - 11s - loss: 0.1334 - sparse_categorical_accuracy: 0.9635 - 11s/epoch - 198ms/step\n",
            "Restored model, accuracy: 96.35%\n"
          ]
        }
      ]
    },
    {
      "cell_type": "markdown",
      "source": [
        "classification_report 혹은 confusion_matrix를 어떻게 만들 수 있을까요??"
      ],
      "metadata": {
        "id": "Si0KECrTDNMA"
      }
    },
    {
      "cell_type": "code",
      "source": [
        "#rom sklearn.metrics import confusion_matrix, plot_confusion_matrix\n",
        "#import matplotlib.pyplot as pl"
      ],
      "metadata": {
        "id": "zGlzmAZ4ApM_"
      },
      "execution_count": null,
      "outputs": []
    },
    {
      "cell_type": "code",
      "source": [
        "from sklearn.metrics import classification_report\n",
        "\n",
        "y_pred = net_1.predict({\"mfcc\":mfcc_val,\"croma\":cstft_val,\"mspec\":mSpec_val})\n",
        "\n",
        "target_names=['URTI', 'Healthy', 'Asthma', 'COPD', 'LRTI', 'Bronchiectasis', 'Pheumonia', 'Bronchiolitis']\n",
        "clf_report = classification_report(yval, np.argmax(y_pred, axis = 1), target_names=target_names)\n",
        "print(clf_report)"
      ],
      "metadata": {
        "id": "mUxWGQV6EXTy",
        "colab": {
          "base_uri": "https://localhost:8080/"
        },
        "outputId": "f1da8213-a272-4b88-dc90-a8dc39d9cec7"
      },
      "execution_count": null,
      "outputs": [
        {
          "output_type": "stream",
          "name": "stdout",
          "text": [
            "                precision    recall  f1-score   support\n",
            "\n",
            "          URTI       0.00      1.00      0.00         1\n",
            "       Healthy       0.00      0.00      0.00        26\n",
            "        Asthma       0.00      0.00      0.00        40\n",
            "          COPD       0.77      0.02      0.03      1437\n",
            "          LRTI       0.00      0.00      0.00        81\n",
            "Bronchiectasis       0.01      0.88      0.03         8\n",
            "     Pheumonia       0.00      0.00      0.00        71\n",
            " Bronchiolitis       0.02      0.18      0.04        61\n",
            "\n",
            "      accuracy                           0.02      1725\n",
            "     macro avg       0.10      0.26      0.01      1725\n",
            "  weighted avg       0.65      0.02      0.03      1725\n",
            "\n"
          ]
        },
        {
          "output_type": "stream",
          "name": "stderr",
          "text": [
            "/usr/local/lib/python3.7/dist-packages/sklearn/metrics/_classification.py:1318: UndefinedMetricWarning: Precision and F-score are ill-defined and being set to 0.0 in labels with no predicted samples. Use `zero_division` parameter to control this behavior.\n",
            "  _warn_prf(average, modifier, msg_start, len(result))\n",
            "/usr/local/lib/python3.7/dist-packages/sklearn/metrics/_classification.py:1318: UndefinedMetricWarning: Precision and F-score are ill-defined and being set to 0.0 in labels with no predicted samples. Use `zero_division` parameter to control this behavior.\n",
            "  _warn_prf(average, modifier, msg_start, len(result))\n",
            "/usr/local/lib/python3.7/dist-packages/sklearn/metrics/_classification.py:1318: UndefinedMetricWarning: Precision and F-score are ill-defined and being set to 0.0 in labels with no predicted samples. Use `zero_division` parameter to control this behavior.\n",
            "  _warn_prf(average, modifier, msg_start, len(result))\n"
          ]
        }
      ]
    }
  ]
}